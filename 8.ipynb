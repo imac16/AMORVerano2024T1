{
 "cells": [
  {
   "cell_type": "code",
   "execution_count": 5,
   "metadata": {},
   "outputs": [],
   "source": [
    "import CodeBase.funciones as fun "
   ]
  },
  {
   "cell_type": "code",
   "execution_count": 6,
   "metadata": {},
   "outputs": [
    {
     "name": "stdout",
     "output_type": "stream",
     "text": [
      "| N°| LimInf | LimSup | MarcaC |fa |   fr   | Facum  |\n",
      "|---|--------|--------|--------|---|--------|--------|\n",
      "| 1 | 0.9000 | 1.9500 | 1.4250 | 4 | 13.33% | 13.33% |\n",
      "| 2 | 1.9500 | 3.0000 | 2.4750 | 8 | 26.67% | 40.00% |\n",
      "| 3 | 3.0000 | 4.0500 | 3.5250 | 8 | 26.67% | 66.67% |\n",
      "| 4 | 4.0500 | 5.1000 | 4.5750 | 5 | 16.67% | 83.33% |\n",
      "| 5 | 5.1000 | 6.1500 | 5.6250 | 4 | 13.33% | 96.67% |\n",
      "| 6 | 6.1500 | 7.2000 | 6.6750 | 1 | 3.33% | 100.00% |\n",
      "|---|--------|--------|--------|---|--------|--------|\n",
      "\n"
     ]
    }
   ],
   "source": [
    "lista = [2.5, 4.5, 5.8, 2.2, 5.7, 5.3, 4.0, 0.9, 2.5, 2.3, 3.2, 4.9, 2.7, 3.7, 3.8, 4.9, 2.8, 3.6, 4.2, 3.1, 7.2, 1.9, 5.9, 3.3, 2.9, 1.1, 1.7, 2.6, 3.1, 4.4]\n",
    "ordenadas = fun.ordenar_asc(lista) \n",
    "## print(\"Lista ordenadas \",ordenadas)\n",
    "clases_sorted = fun.ordenar_asc(lista)\n",
    "lim_inf, lim_sup, mrks = fun.calcular_estadisticas_intervalos(ordenadas)\n",
    "## print (\"Limites inferiores: \", lim_inf)\n",
    "## print(\"Limites superiores: \", lim_sup)\n",
    "## print(\"Marcas de clase: \", mrks)\n",
    "fa = fun.fa_grouped(ordenadas, lim_inf, lim_sup)\n",
    "## print(\"Frecuencias absolutas agrupadas:\", fa)\n",
    "\n",
    "fr = fun.obtener_frecuencia_relativa(fa)\n",
    "## print(\"Frecuencia relativa:\", fr)\n",
    "facum = fun.obtener_frecuencia_relativa_acumulada(fr)\n",
    "## print(\"Frecuencia relativa acumulada:\", facum)\n",
    "## print()\n",
    "tabla_generada = fun.generar_tabla_distribucion_frecuencias(ordenadas, lim_inf, lim_sup,mrks, fa, fr, facum)\n",
    "\n",
    "print(tabla_generada)"
   ]
  }
 ],
 "metadata": {
  "kernelspec": {
   "display_name": "Python 3",
   "language": "python",
   "name": "python3"
  },
  "language_info": {
   "codemirror_mode": {
    "name": "ipython",
    "version": 3
   },
   "file_extension": ".py",
   "mimetype": "text/x-python",
   "name": "python",
   "nbconvert_exporter": "python",
   "pygments_lexer": "ipython3",
   "version": "3.11.4"
  }
 },
 "nbformat": 4,
 "nbformat_minor": 2
}
